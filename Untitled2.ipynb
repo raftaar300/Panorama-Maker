{
 "cells": [
  {
   "cell_type": "code",
   "execution_count": 1,
   "metadata": {},
   "outputs": [],
   "source": [
    "import cv2\n",
    "import os\n",
    "import numpy as np "
   ]
  },
  {
   "cell_type": "code",
   "execution_count": 2,
   "metadata": {},
   "outputs": [],
   "source": [
    "path = r'Images'\n",
    "subfolders = os.listdir(path)"
   ]
  },
  {
   "cell_type": "code",
   "execution_count": 3,
   "metadata": {},
   "outputs": [
    {
     "name": "stdout",
     "output_type": "stream",
     "text": [
      "['1', '2']\n"
     ]
    }
   ],
   "source": [
    "print(subfolders)"
   ]
  },
  {
   "cell_type": "code",
   "execution_count": 5,
   "metadata": {},
   "outputs": [],
   "source": [
    "for folder in subfolders:\n",
    "    paths = path + '/' + folder\n",
    "    images = []\n",
    "    imgs = os.listdir(paths)\n",
    "    for imagePath in imgs:\n",
    "        image = cv2.imread(paths + '/' + imagePath)\n",
    "        image = cv2.resize(image , (0,0), None , 0.2,0.2)\n",
    "        images.append(image)\n",
    "    \n",
    "    stich = cv2.Stitcher.create()\n",
    "    status , result = stich.stitch(images)\n",
    "   \n",
    "    if status == cv2.STITCHER_OK:\n",
    "        cv2.imshow('res' , result)\n",
    "        cv2.waitKey(0)\n",
    "        cv2.destroyAllWindows()"
   ]
  },
  {
   "cell_type": "code",
   "execution_count": null,
   "metadata": {},
   "outputs": [],
   "source": []
  }
 ],
 "metadata": {
  "kernelspec": {
   "display_name": "Python 3",
   "language": "python",
   "name": "python3"
  },
  "language_info": {
   "codemirror_mode": {
    "name": "ipython",
    "version": 3
   },
   "file_extension": ".py",
   "mimetype": "text/x-python",
   "name": "python",
   "nbconvert_exporter": "python",
   "pygments_lexer": "ipython3",
   "version": "3.8.5"
  }
 },
 "nbformat": 4,
 "nbformat_minor": 4
}
